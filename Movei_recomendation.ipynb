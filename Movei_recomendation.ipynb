{
 "cells": [
  {
   "cell_type": "code",
   "execution_count": null,
   "id": "cb6a18b3",
   "metadata": {},
   "outputs": [],
   "source": [
    "# import required  libraries\n",
    "import numpy as  np \n",
    "import pandas as pd "
   ]
  },
  {
   "cell_type": "code",
   "execution_count": null,
   "id": "1ff3ed3a",
   "metadata": {},
   "outputs": [],
   "source": [
    "#  import the dataset from the local directory\n",
    "df1= pd.read_csv(\"/Users/mac/Desktop/Project/movie_recommender_project/tmdb_movies_5k.csv\")\n",
    "df2 =pd.read_csv(\"/Users/mac/Desktop/Project/movie_recommender_project/tmdb_movie_7k.csv\")\n"
   ]
  },
  {
   "cell_type": "code",
   "execution_count": null,
   "id": "838c1bbc",
   "metadata": {},
   "outputs": [],
   "source": [
    "df1.shape ,df2.shape"
   ]
  },
  {
   "cell_type": "code",
   "execution_count": null,
   "id": "4db1f05c",
   "metadata": {},
   "outputs": [],
   "source": [
    "df1.head()"
   ]
  },
  {
   "cell_type": "code",
   "execution_count": null,
   "id": "4c8ea076",
   "metadata": {},
   "outputs": [],
   "source": [
    "df2.head()"
   ]
  },
  {
   "cell_type": "code",
   "execution_count": null,
   "id": "2985d259",
   "metadata": {},
   "outputs": [],
   "source": [
    "# print the first 5 movies\n",
    "movies = pd.concat([df1, df2], axis=0, ignore_index=True)\n",
    "\n"
   ]
  },
  {
   "cell_type": "code",
   "execution_count": null,
   "id": "e2a7dbf1",
   "metadata": {},
   "outputs": [],
   "source": [
    "# shape of the movie data\n",
    "movies.shape\n"
   ]
  },
  {
   "cell_type": "code",
   "execution_count": null,
   "id": "a296271c",
   "metadata": {},
   "outputs": [],
   "source": [
    "# print the first 5 row of movies dataset\n",
    "movies.head()"
   ]
  },
  {
   "cell_type": "code",
   "execution_count": null,
   "id": "d6645c78",
   "metadata": {},
   "outputs": [],
   "source": [
    "# print the columns of the data \n",
    "movies.columns"
   ]
  },
  {
   "cell_type": "code",
   "execution_count": null,
   "id": "c13efa25",
   "metadata": {},
   "outputs": [],
   "source": [
    "# we only use these following columns for the my project \n",
    "\"\"\"\n",
    "genres\n",
    "movie_id\n",
    "keywords\n",
    "title\n",
    "overview\n",
    "cast \n",
    "crew \n",
    "\"\"\"\n",
    "# update the movies dataset only having upper   these columns\n",
    "\n",
    "movies = movies[['movie_id','title','genres','keywords','overview','cast','crew']]"
   ]
  },
  {
   "cell_type": "code",
   "execution_count": null,
   "id": "b698575f",
   "metadata": {},
   "outputs": [],
   "source": [
    "movies.head()"
   ]
  },
  {
   "cell_type": "code",
   "execution_count": null,
   "id": "2c6145a9",
   "metadata": {},
   "outputs": [],
   "source": [
    "movies['crew'][0:10]"
   ]
  },
  {
   "cell_type": "code",
   "execution_count": null,
   "id": "74acee16",
   "metadata": {},
   "outputs": [],
   "source": [
    "movies['genres'].unique()"
   ]
  },
  {
   "cell_type": "code",
   "execution_count": null,
   "id": "c7547d1b",
   "metadata": {},
   "outputs": [],
   "source": [
    "# checking for null values:\n",
    "df1.isnull().sum()"
   ]
  },
  {
   "cell_type": "code",
   "execution_count": null,
   "id": "848ec267",
   "metadata": {},
   "outputs": [],
   "source": [
    "# drop the null values row\n",
    "movies.dropna(inplace= True)\n",
    "movies.isnull().sum()"
   ]
  },
  {
   "cell_type": "code",
   "execution_count": null,
   "id": "e95de8be",
   "metadata": {},
   "outputs": [],
   "source": [
    "movies.shape"
   ]
  },
  {
   "cell_type": "code",
   "execution_count": null,
   "id": "cf8ca1a3",
   "metadata": {},
   "outputs": [],
   "source": [
    "# checking the duplicate values\n",
    "movies.duplicated().sum()"
   ]
  },
  {
   "cell_type": "code",
   "execution_count": null,
   "id": "67d58df5",
   "metadata": {},
   "outputs": [],
   "source": [
    "# sample seeing the genres  column data \n",
    "movies.iloc[9].genres"
   ]
  },
  {
   "cell_type": "code",
   "execution_count": null,
   "id": "a8be5e67",
   "metadata": {},
   "outputs": [],
   "source": [
    "# fetch data Director ,writer , producer  from crew column\n",
    "import pandas as pd\n",
    "import re\n",
    "\n",
    "# Sample: if your df['crew'] has missing or NaN entries\n",
    "movies['crew'] = movies['crew'].fillna('')\n",
    "\n",
    "# Roles you want to extract\n",
    "roles = ['Director', 'Producer', 'Writer']\n",
    "\n",
    "# Loop over each role and extract matching names\n",
    "for role in roles:\n",
    "    movies[role.lower() + 's'] = movies['crew'].apply(\n",
    "        lambda x: ', '.join(re.findall(rf'(.*?)(?= \\({role}\\))', x)) if role in x else '')"
   ]
  },
  {
   "cell_type": "code",
   "execution_count": null,
   "id": "47918441",
   "metadata": {},
   "outputs": [],
   "source": [
    "# Convert list fields to joined strings\n",
    "movies['genres']   = movies['genres'].apply(lambda x: ', '.join(x) if isinstance(x, list) else x)\n",
    "movies['keywords'] = movies['keywords'].apply(lambda x: ', '.join(x) if isinstance(x, list) else x)\n",
    "movies['cast']     = movies['cast'].apply(lambda x: ', '.join(x) if isinstance(x, list) else x)\n",
    "movies['crew']     = movies['crew'].apply(lambda x: ', '.join(x) if isinstance(x, list) else x)\n",
    "\n",
    "movies.head()"
   ]
  },
  {
   "cell_type": "code",
   "execution_count": null,
   "id": "85b501e4",
   "metadata": {},
   "outputs": [],
   "source": [
    "# Create unified \"tags\" for sentence-transformers\n",
    "movies['tags'] = (\n",
    "    movies['overview'].fillna('') + ' | ' +\n",
    "    movies['genres'].fillna('') + ' | ' +\n",
    "    movies['keywords'].fillna('') + ' | ' +\n",
    "    movies['cast'].fillna('') + ' | ' +\n",
    "    movies['crew'].fillna('')\n",
    ")\n",
    "\n",
    "movies['tags']"
   ]
  },
  {
   "cell_type": "code",
   "execution_count": null,
   "id": "5397a99a",
   "metadata": {},
   "outputs": [],
   "source": [
    "\n",
    "\n",
    "# new dataframe with movie_id ,title, and tags only as 'new_df'\n",
    "new_df = movies[['movie_id','title','tags']]\n",
    "\n",
    "# print  the new dataframe\n",
    "new_df.head()"
   ]
  },
  {
   "cell_type": "code",
   "execution_count": null,
   "id": "d3263422",
   "metadata": {},
   "outputs": [],
   "source": [
    "# Lowercase the tags for consistency (important for text-based similarity)\n",
    "new_df['tags'] = new_df['tags'].apply(lambda x: x.lower())"
   ]
  },
  {
   "cell_type": "code",
   "execution_count": null,
   "id": "79afa792",
   "metadata": {},
   "outputs": [],
   "source": [
    "new_df['tags']"
   ]
  },
  {
   "cell_type": "code",
   "execution_count": null,
   "id": "349c2574",
   "metadata": {},
   "outputs": [],
   "source": [
    "from sentence_transformers import SentenceTransformer\n",
    "from sklearn.metrics.pairwise import cosine_similarity\n",
    "import numpy as np\n",
    "\n",
    "# Load the transformer model\n",
    "model = SentenceTransformer('all-MiniLM-L6-v2')  # small & fast, good accuracy\n",
    "\n",
    "# Encode tags to embeddings\n",
    "embeddings = model.encode(new_df['tags'].tolist(), show_progress_bar=True)\n",
    "\n",
    "# Compute similarity\n",
    "similarity = cosine_similarity(embeddings)\n"
   ]
  },
  {
   "cell_type": "code",
   "execution_count": null,
   "id": "c3649611",
   "metadata": {},
   "outputs": [],
   "source": [
    "similarity.shape"
   ]
  },
  {
   "cell_type": "code",
   "execution_count": null,
   "id": "cce0710e",
   "metadata": {},
   "outputs": [],
   "source": [
    "# reset index \n",
    "new_df = new_df.reset_index(drop=True)"
   ]
  },
  {
   "cell_type": "code",
   "execution_count": null,
   "id": "c26b62c2",
   "metadata": {},
   "outputs": [],
   "source": [
    "def recommend(movie_title):\n",
    "    movie_index = new_df[new_df['title'] == movie_title].index[0]\n",
    "    distances = list(enumerate(similarity[movie_index]))\n",
    "    movies_list = sorted(distances, key=lambda x: x[1], reverse=True)[1:6]\n",
    "\n",
    "    for i in movies_list:\n",
    "        print(new_df.iloc[i[0]].title)"
   ]
  },
  {
   "cell_type": "code",
   "execution_count": null,
   "id": "4d5a6874",
   "metadata": {},
   "outputs": [],
   "source": [
    "print(similarity.shape)\n",
    "print(new_df.shape)\n"
   ]
  },
  {
   "cell_type": "code",
   "execution_count": null,
   "id": "848e7ca4",
   "metadata": {},
   "outputs": [],
   "source": [
    "recommend(\"The Dark Knight\")"
   ]
  },
  {
   "cell_type": "code",
   "execution_count": null,
   "id": "a8f6204f",
   "metadata": {},
   "outputs": [],
   "source": [
    "# print the similarity score of the first vector with the rest  vectors\n",
    "similarity[3]"
   ]
  },
  {
   "cell_type": "code",
   "execution_count": null,
   "id": "ce7700d6",
   "metadata": {},
   "outputs": [],
   "source": [
    "from sklearn.metrics.pairwise import cosine_similarity\n",
    "\n",
    "# Example: check similarity between The Dark Knight and recommended movie\n",
    "i = new_df[new_df['title'] == \"The Dark Knight\"].index[0]\n",
    "similarity_scores = cosine_similarity([embeddings[i]], embeddings)[0]\n",
    "top_indices = similarity_scores.argsort()[-6:-1][::-1]\n",
    "\n",
    "for idx in top_indices:\n",
    "    print(f\"{new_df.iloc[idx]['title']} — Similarity: {similarity_scores[idx]:.4f}\")\n",
    "\n",
    "  "
   ]
  },
  {
   "cell_type": "code",
   "execution_count": null,
   "id": "a891ab9c",
   "metadata": {},
   "outputs": [],
   "source": [
    "# check the my model work :\n",
    "recommend('Ariel')"
   ]
  },
  {
   "cell_type": "code",
   "execution_count": null,
   "id": "065971bf",
   "metadata": {},
   "outputs": [],
   "source": [
    "#  save the movie dictionary as pickle file\n",
    "import  pickle\n",
    "pickle.dump(new_df.to_dict(), open('movie_dict.pkl','wb'))"
   ]
  },
  {
   "cell_type": "code",
   "execution_count": null,
   "id": "6c2b574f",
   "metadata": {},
   "outputs": [],
   "source": [
    "# save the similarity matrix as pickle file:\n",
    "pickle.dump(similarity , open('similarity.pkl','wb'))"
   ]
  },
  {
   "cell_type": "code",
   "execution_count": null,
   "id": "0d06401d",
   "metadata": {},
   "outputs": [],
   "source": []
  }
 ],
 "metadata": {
  "kernelspec": {
   "display_name": "base",
   "language": "python",
   "name": "python3"
  },
  "language_info": {
   "codemirror_mode": {
    "name": "ipython",
    "version": 3
   },
   "file_extension": ".py",
   "mimetype": "text/x-python",
   "name": "python",
   "nbconvert_exporter": "python",
   "pygments_lexer": "ipython3",
   "version": "3.12.7"
  }
 },
 "nbformat": 4,
 "nbformat_minor": 5
}
